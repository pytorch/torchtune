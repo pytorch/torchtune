{
 "cells": [
  {
   "cell_type": "code",
   "execution_count": 1,
   "metadata": {},
   "outputs": [],
   "source": [
    "from torchtune.models.llama2 import llama2\n",
    "from torchtune.modules import TransformerDecoder"
   ]
  },
  {
   "cell_type": "code",
   "execution_count": 2,
   "metadata": {},
   "outputs": [],
   "source": [
    "def llama2_tiny() -> TransformerDecoder:\n",
    "    \"\"\"\n",
    "    Builder for creating a Llama2 model initialized w/ the default 7b parameter values\n",
    "    from https://arxiv.org/abs/2307.09288\n",
    "\n",
    "    Args:\n",
    "        max_batch_size (Optional[int]): Maximum batch size to be passed to KVCache.\n",
    "\n",
    "    Returns:\n",
    "        TransformerDecoder: Instantiation of Llama2 7B model\n",
    "    \"\"\"\n",
    "    return llama2(\n",
    "        vocab_size=32_000,\n",
    "        num_layers=2,\n",
    "        num_heads=4,\n",
    "        num_kv_heads=4,\n",
    "        embed_dim=128,\n",
    "        max_seq_len=4096,\n",
    "        attn_dropout=0.0,\n",
    "        norm_eps=1e-5,\n",
    "    )"
   ]
  },
  {
   "cell_type": "code",
   "execution_count": 3,
   "metadata": {},
   "outputs": [],
   "source": [
    "m = llama2_tiny()"
   ]
  },
  {
   "cell_type": "code",
   "execution_count": 4,
   "metadata": {},
   "outputs": [],
   "source": [
    "chpt_dict = {\"model\": m}\n"
   ]
  },
  {
   "cell_type": "code",
   "execution_count": 5,
   "metadata": {},
   "outputs": [],
   "source": [
    "import torch\n",
    "torch.save(m.state_dict(), \"tiny_llama/model.pt\")"
   ]
  }
 ],
 "metadata": {
  "kernelspec": {
   "display_name": "pt",
   "language": "python",
   "name": "python3"
  },
  "language_info": {
   "codemirror_mode": {
    "name": "ipython",
    "version": 3
   },
   "file_extension": ".py",
   "mimetype": "text/x-python",
   "name": "python",
   "nbconvert_exporter": "python",
   "pygments_lexer": "ipython3",
   "version": "3.10.13"
  }
 },
 "nbformat": 4,
 "nbformat_minor": 2
}
